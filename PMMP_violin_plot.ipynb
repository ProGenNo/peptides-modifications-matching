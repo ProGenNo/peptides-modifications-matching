{
 "cells": [
  {
   "cell_type": "markdown",
   "metadata": {},
   "source": [
    "## Peptides-Modifications Matching Problem"
   ]
  },
  {
   "cell_type": "markdown",
   "metadata": {},
   "source": [
    "### Load data to a pandas dataframe"
   ]
  },
  {
   "cell_type": "code",
   "execution_count": 2,
   "metadata": {},
   "outputs": [
    {
     "data": {
      "text/html": [
       "<div>\n",
       "<style scoped>\n",
       "    .dataframe tbody tr th:only-of-type {\n",
       "        vertical-align: middle;\n",
       "    }\n",
       "\n",
       "    .dataframe tbody tr th {\n",
       "        vertical-align: top;\n",
       "    }\n",
       "\n",
       "    .dataframe thead th {\n",
       "        text-align: right;\n",
       "    }\n",
       "</style>\n",
       "<table border=\"1\" class=\"dataframe\">\n",
       "  <thead>\n",
       "    <tr style=\"text-align: right;\">\n",
       "      <th></th>\n",
       "      <th>spectrum_key</th>\n",
       "      <th>peptide_key</th>\n",
       "      <th>peptide_sequence</th>\n",
       "      <th>n_mods</th>\n",
       "      <th>p_score</th>\n",
       "      <th>d_score</th>\n",
       "      <th>modification_mass</th>\n",
       "      <th>modification_site</th>\n",
       "    </tr>\n",
       "  </thead>\n",
       "  <tbody>\n",
       "    <tr>\n",
       "      <td>0</td>\n",
       "      <td>8346079174197888067</td>\n",
       "      <td>1526271875777244526</td>\n",
       "      <td>ARTKQTARKSTGGKAPRKQLATKAARKSAPATGGVKKPHRYRPGTV...</td>\n",
       "      <td>14.01565006414:1</td>\n",
       "      <td>0.000017</td>\n",
       "      <td>0.0</td>\n",
       "      <td>14.015650</td>\n",
       "      <td>4</td>\n",
       "    </tr>\n",
       "    <tr>\n",
       "      <td>1</td>\n",
       "      <td>8346079174197888067</td>\n",
       "      <td>1526271875777244526</td>\n",
       "      <td>ARTKQTARKSTGGKAPRKQLATKAARKSAPATGGVKKPHRYRPGTV...</td>\n",
       "      <td>14.01565006414:1</td>\n",
       "      <td>0.456230</td>\n",
       "      <td>0.0</td>\n",
       "      <td>14.015650</td>\n",
       "      <td>14</td>\n",
       "    </tr>\n",
       "    <tr>\n",
       "      <td>2</td>\n",
       "      <td>8346079174197888067</td>\n",
       "      <td>1526271875777244526</td>\n",
       "      <td>ARTKQTARKSTGGKAPRKQLATKAARKSAPATGGVKKPHRYRPGTV...</td>\n",
       "      <td>14.01565006414:1</td>\n",
       "      <td>0.456230</td>\n",
       "      <td>0.0</td>\n",
       "      <td>14.015650</td>\n",
       "      <td>18</td>\n",
       "    </tr>\n",
       "    <tr>\n",
       "      <td>3</td>\n",
       "      <td>8346079174197888067</td>\n",
       "      <td>1526271875777244526</td>\n",
       "      <td>ARTKQTARKSTGGKAPRKQLATKAARKSAPATGGVKKPHRYRPGTV...</td>\n",
       "      <td>14.01565006414:1</td>\n",
       "      <td>0.456230</td>\n",
       "      <td>0.0</td>\n",
       "      <td>14.015650</td>\n",
       "      <td>23</td>\n",
       "    </tr>\n",
       "    <tr>\n",
       "      <td>4</td>\n",
       "      <td>8346079174197888067</td>\n",
       "      <td>1526271875777244526</td>\n",
       "      <td>ARTKQTARKSTGGKAPRKQLATKAARKSAPATGGVKKPHRYRPGTV...</td>\n",
       "      <td>14.01565006414:1</td>\n",
       "      <td>0.456230</td>\n",
       "      <td>0.0</td>\n",
       "      <td>14.015650</td>\n",
       "      <td>27</td>\n",
       "    </tr>\n",
       "    <tr>\n",
       "      <td>...</td>\n",
       "      <td>...</td>\n",
       "      <td>...</td>\n",
       "      <td>...</td>\n",
       "      <td>...</td>\n",
       "      <td>...</td>\n",
       "      <td>...</td>\n",
       "      <td>...</td>\n",
       "      <td>...</td>\n",
       "    </tr>\n",
       "    <tr>\n",
       "      <td>15195</td>\n",
       "      <td>-2532221026069166821</td>\n",
       "      <td>5125541582210564031</td>\n",
       "      <td>MALTKQTARKSTGGKAPRKQLATKATRKSAPSTGGVKKPHRYRPGT...</td>\n",
       "      <td>42.04695019242:3_42.0105646837:4</td>\n",
       "      <td>74.811981</td>\n",
       "      <td>0.0</td>\n",
       "      <td>42.010565</td>\n",
       "      <td>15</td>\n",
       "    </tr>\n",
       "    <tr>\n",
       "      <td>15196</td>\n",
       "      <td>-2532221026069166821</td>\n",
       "      <td>5125541582210564031</td>\n",
       "      <td>MALTKQTARKSTGGKAPRKQLATKATRKSAPSTGGVKKPHRYRPGT...</td>\n",
       "      <td>42.04695019242:3_42.0105646837:4</td>\n",
       "      <td>74.811981</td>\n",
       "      <td>0.0</td>\n",
       "      <td>42.010565</td>\n",
       "      <td>37</td>\n",
       "    </tr>\n",
       "    <tr>\n",
       "      <td>15197</td>\n",
       "      <td>-2532221026069166821</td>\n",
       "      <td>5125541582210564031</td>\n",
       "      <td>MALTKQTARKSTGGKAPRKQLATKATRKSAPSTGGVKKPHRYRPGT...</td>\n",
       "      <td>42.04695019242:3_42.0105646837:4</td>\n",
       "      <td>74.811981</td>\n",
       "      <td>0.0</td>\n",
       "      <td>42.010565</td>\n",
       "      <td>19</td>\n",
       "    </tr>\n",
       "    <tr>\n",
       "      <td>15198</td>\n",
       "      <td>-2532221026069166821</td>\n",
       "      <td>5125541582210564031</td>\n",
       "      <td>MALTKQTARKSTGGKAPRKQLATKATRKSAPSTGGVKKPHRYRPGT...</td>\n",
       "      <td>42.04695019242:3_42.0105646837:4</td>\n",
       "      <td>99.813877</td>\n",
       "      <td>0.0</td>\n",
       "      <td>42.046950</td>\n",
       "      <td>5</td>\n",
       "    </tr>\n",
       "    <tr>\n",
       "      <td>15199</td>\n",
       "      <td>-2532221026069166821</td>\n",
       "      <td>5125541582210564031</td>\n",
       "      <td>MALTKQTARKSTGGKAPRKQLATKATRKSAPSTGGVKKPHRYRPGT...</td>\n",
       "      <td>42.04695019242:3_42.0105646837:4</td>\n",
       "      <td>99.845272</td>\n",
       "      <td>0.0</td>\n",
       "      <td>42.010565</td>\n",
       "      <td>0</td>\n",
       "    </tr>\n",
       "  </tbody>\n",
       "</table>\n",
       "<p>15200 rows × 8 columns</p>\n",
       "</div>"
      ],
      "text/plain": [
       "              spectrum_key          peptide_key  \\\n",
       "0      8346079174197888067  1526271875777244526   \n",
       "1      8346079174197888067  1526271875777244526   \n",
       "2      8346079174197888067  1526271875777244526   \n",
       "3      8346079174197888067  1526271875777244526   \n",
       "4      8346079174197888067  1526271875777244526   \n",
       "...                    ...                  ...   \n",
       "15195 -2532221026069166821  5125541582210564031   \n",
       "15196 -2532221026069166821  5125541582210564031   \n",
       "15197 -2532221026069166821  5125541582210564031   \n",
       "15198 -2532221026069166821  5125541582210564031   \n",
       "15199 -2532221026069166821  5125541582210564031   \n",
       "\n",
       "                                        peptide_sequence  \\\n",
       "0      ARTKQTARKSTGGKAPRKQLATKAARKSAPATGGVKKPHRYRPGTV...   \n",
       "1      ARTKQTARKSTGGKAPRKQLATKAARKSAPATGGVKKPHRYRPGTV...   \n",
       "2      ARTKQTARKSTGGKAPRKQLATKAARKSAPATGGVKKPHRYRPGTV...   \n",
       "3      ARTKQTARKSTGGKAPRKQLATKAARKSAPATGGVKKPHRYRPGTV...   \n",
       "4      ARTKQTARKSTGGKAPRKQLATKAARKSAPATGGVKKPHRYRPGTV...   \n",
       "...                                                  ...   \n",
       "15195  MALTKQTARKSTGGKAPRKQLATKATRKSAPSTGGVKKPHRYRPGT...   \n",
       "15196  MALTKQTARKSTGGKAPRKQLATKATRKSAPSTGGVKKPHRYRPGT...   \n",
       "15197  MALTKQTARKSTGGKAPRKQLATKATRKSAPSTGGVKKPHRYRPGT...   \n",
       "15198  MALTKQTARKSTGGKAPRKQLATKATRKSAPSTGGVKKPHRYRPGT...   \n",
       "15199  MALTKQTARKSTGGKAPRKQLATKATRKSAPSTGGVKKPHRYRPGT...   \n",
       "\n",
       "                                 n_mods    p_score  d_score  \\\n",
       "0                      14.01565006414:1   0.000017      0.0   \n",
       "1                      14.01565006414:1   0.456230      0.0   \n",
       "2                      14.01565006414:1   0.456230      0.0   \n",
       "3                      14.01565006414:1   0.456230      0.0   \n",
       "4                      14.01565006414:1   0.456230      0.0   \n",
       "...                                 ...        ...      ...   \n",
       "15195  42.04695019242:3_42.0105646837:4  74.811981      0.0   \n",
       "15196  42.04695019242:3_42.0105646837:4  74.811981      0.0   \n",
       "15197  42.04695019242:3_42.0105646837:4  74.811981      0.0   \n",
       "15198  42.04695019242:3_42.0105646837:4  99.813877      0.0   \n",
       "15199  42.04695019242:3_42.0105646837:4  99.845272      0.0   \n",
       "\n",
       "       modification_mass  modification_site  \n",
       "0              14.015650                  4  \n",
       "1              14.015650                 14  \n",
       "2              14.015650                 18  \n",
       "3              14.015650                 23  \n",
       "4              14.015650                 27  \n",
       "...                  ...                ...  \n",
       "15195          42.010565                 15  \n",
       "15196          42.010565                 37  \n",
       "15197          42.010565                 19  \n",
       "15198          42.046950                  5  \n",
       "15199          42.010565                  0  \n",
       "\n",
       "[15200 rows x 8 columns]"
      ]
     },
     "execution_count": 2,
     "metadata": {},
     "output_type": "execute_result"
    }
   ],
   "source": [
    "import pandas as pd\n",
    "import matplotlib.pyplot as plt\n",
    "import random\n",
    "import numpy as np\n",
    "from networkx.algorithms import bipartite\n",
    "import networkx as nx\n",
    "\n",
    "%matplotlib inline\n",
    "\n",
    "df = pd.read_csv('data', delimiter = \"\\t\")\n",
    "df"
   ]
  },
  {
   "cell_type": "markdown",
   "metadata": {},
   "source": [
    "#### Find matching of peptide-modifications graph"
   ]
  },
  {
   "cell_type": "code",
   "execution_count": 7,
   "metadata": {},
   "outputs": [],
   "source": [
    "def find_subgraph_matching(df, sample):\n",
    "    sample = df.loc[(df['spectrum_key'] == sample['spectrum_key']) & (df['peptide_key'] == sample['peptide_key'])]\n",
    "    n = len(sample['modification_site'].unique().tolist())\n",
    "    modifications_num_dict = {float(x.split(':')[0]) : int(x.split(':')[1]) for x in sample['n_mods'].iloc[1].split('_')}\n",
    "    k = sum(modifications_num_dict.values())\n",
    "    A = sample['modification_site'].unique().tolist()\n",
    "    D = [key for key in modifications_num_dict for i in range(modifications_num_dict[key])]\n",
    "    V = A + D\n",
    "    keys = [key for key in modifications_num_dict]\n",
    "    V_names = ['site '+str(i) for i in A] + ['mod '+str(i)+' occ '+str(j) for i in range(len(keys)) for j in     range(modifications_num_dict[keys[i]])]\n",
    "    E = []\n",
    "    for index, row in sample.iterrows():\n",
    "        net_edges = [(V_names[A.index(row['modification_site'])], V_names[len(A)+i], row['p_score']) for i in         np.where(np.array(D)==row['modification_mass'])[0].tolist()]\n",
    "        E = E + net_edges\n",
    "\n",
    "    G = nx.Graph()\n",
    "    # Add nodes with the node attribute \"bipartite\"\n",
    "    G.add_nodes_from(V_names[:len(A)], bipartite=0)\n",
    "    G.add_nodes_from(V_names[len(A):], bipartite=1)\n",
    "    G.add_weighted_edges_from(E)\n",
    "    \n",
    "    matching = nx.algorithms.max_weight_matching(G)\n",
    "    matching_weights_sum = 0.0\n",
    "    matching_edges = []\n",
    "    for m in matching:\n",
    "        match_info = [sample['spectrum_key'].iloc[0], sample['peptide_key'].iloc[0]]\n",
    "        for e in E:\n",
    "            if m[0] in str(e) and m[1] in str(e):\n",
    "                matching_weights_sum += e[2]\n",
    "                if 'site' in m[0]:\n",
    "                    match_info.append(int(m[0].split(' ')[1]))\n",
    "                    match_info.append(D[V_names.index(m[1])-len(A)])\n",
    "                else:\n",
    "                    match_info.append(int(m[1].split(' ')[1]))\n",
    "                    match_info.append(D[V_names.index(m[0])-len(A)])\n",
    "        matching_edges.append(match_info)\n",
    "    return matching_edges, len(V), len(E)"
   ]
  },
  {
   "cell_type": "markdown",
   "metadata": {},
   "source": [
    "#### Get all different pairs of spectrum_key peptide_key values"
   ]
  },
  {
   "cell_type": "code",
   "execution_count": 8,
   "metadata": {},
   "outputs": [
    {
     "name": "stdout",
     "output_type": "stream",
     "text": [
      "[8346079174197888067, 1526271875777244526, 9, 14.01565006414]\n",
      "Number of nodes: 9\n",
      "Number of edges: 8\n"
     ]
    }
   ],
   "source": [
    "samples = df[['spectrum_key','peptide_key']].drop_duplicates()\n",
    "matchings_info = []\n",
    "graph_statistics = []\n",
    "for index, sample in samples.iterrows():\n",
    "    matching, num_V, num_E = find_subgraph_matching(df, sample)\n",
    "    for e in matching:\n",
    "        matchings_info.append(e)\n",
    "    graph_statistics.append([num_V, num_E])\n",
    "print(matchings_info[0])\n",
    "print('Number of nodes:', graph_statistics[0][0])\n",
    "print('Number of edges:', graph_statistics[0][1])"
   ]
  },
  {
   "cell_type": "markdown",
   "metadata": {},
   "source": [
    "### Violin plots of graph sizes"
   ]
  },
  {
   "cell_type": "code",
   "execution_count": 16,
   "metadata": {},
   "outputs": [],
   "source": [
    "plotted_num_nodes = np.array(graph_statistics)[:,0].tolist()\n",
    "plotted_num_edges = np.array(graph_statistics)[:,1].tolist()"
   ]
  },
  {
   "cell_type": "code",
   "execution_count": 21,
   "metadata": {},
   "outputs": [
    {
     "data": {
      "image/png": "[encoded data removed]",
      "text/plain": [
       "<Figure size 432x288 with 1 Axes>"
      ]
     },
     "metadata": {
      "needs_background": "light"
     },
     "output_type": "display_data"
    }
   ],
   "source": [
    "def set_axis_style(ax, labels):\n",
    "    ax.xaxis.set_tick_params(direction='out')\n",
    "    ax.xaxis.set_ticks_position('bottom')\n",
    "    ax.set_xticks(np.arange(1, len(labels) + 1))\n",
    "    ax.set_xticklabels(labels)\n",
    "    ax.set_xlim(0.25, len(labels) + 0.75)\n",
    "    ax.set_xlabel('Sample name')\n",
    "\n",
    "fig = plt.figure()\n",
    "ax = fig.add_axes([0,0,1,1])\n",
    "bp = ax.violinplot(plotted_num_nodes)\n",
    "ax.set_title('Distribution of number of nodes plot')\n",
    "ax.set_ylabel('Number of nodes')\n",
    "\n",
    "labels = ['Histones']\n",
    "set_axis_style(ax, labels)\n",
    "\n",
    "plt.show()"
   ]
  },
  {
   "cell_type": "code",
   "execution_count": 22,
   "metadata": {},
   "outputs": [
    {
     "data": {
      "image/png": "[encoded data removed]",
      "text/plain": [
       "<Figure size 432x288 with 1 Axes>"
      ]
     },
     "metadata": {
      "needs_background": "light"
     },
     "output_type": "display_data"
    }
   ],
   "source": [
    "fig = plt.figure()\n",
    "ax = fig.add_axes([0,0,1,1])\n",
    "bp = ax.violinplot(plotted_num_edges)\n",
    "ax.set_title('Distribution of number of edges plot')\n",
    "ax.set_ylabel('Number of edges')\n",
    "\n",
    "labels = ['Histones']\n",
    "set_axis_style(ax, labels)\n",
    "\n",
    "plt.show()"
   ]
  },
  {
   "cell_type": "code",
   "execution_count": null,
   "metadata": {},
   "outputs": [],
   "source": []
  }
 ],
 "metadata": {
  "kernelspec": {
   "display_name": "Python 3",
   "language": "python",
   "name": "python3"
  },
  "language_info": {
   "codemirror_mode": {
    "name": "ipython",
    "version": 3
   },
   "file_extension": ".py",
   "mimetype": "text/x-python",
   "name": "python",
   "nbconvert_exporter": "python",
   "pygments_lexer": "ipython3",
   "version": "3.7.4"
  }
 },
 "nbformat": 4,
 "nbformat_minor": 2
}
